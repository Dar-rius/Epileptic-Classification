{
  "metadata": {
    "kernelspec": {
      "language": "python",
      "display_name": "Python 3",
      "name": "python3"
    },
    "language_info": {
      "pygments_lexer": "ipython3",
      "nbconvert_exporter": "python",
      "version": "3.6.4",
      "file_extension": ".py",
      "codemirror_mode": {
        "name": "ipython",
        "version": 3
      },
      "name": "python",
      "mimetype": "text/x-python"
    },
    "colab": {
      "name": "RNN_epil_classifier.ipynb",
      "provenance": [],
      "collapsed_sections": []
    }
  },
  "nbformat_minor": 0,
  "nbformat": 4,
  "cells": [
    {
      "cell_type": "markdown",
      "source": [
        "**Link to the dataset:**:[https://www.kaggle.com/harunshimanto/epileptic-seizure-recognition](https://www.kaggle.com/harunshimanto/epileptic-seizure-recognition)"
      ],
      "metadata": {
        "id": "T89Hton8mTHY"
      }
    },
    {
      "cell_type": "markdown",
      "source": [
        "# Importing the libraries"
      ],
      "metadata": {
        "_uuid": "b9ad6f280e93376b5811f0cd1f25556150660b21",
        "id": "xuGmXILTmTHd"
      }
    },
    {
      "cell_type": "code",
      "source": [
        "import numpy as np\n",
        "import matplotlib.pyplot as plt\n",
        "import pandas as pd\n",
        "import seaborn as sn"
      ],
      "metadata": {
        "_uuid": "87d159a308dde25e6f89f58501552945f4c261cf",
        "_kg_hide-input": true,
        "trusted": true,
        "id": "KwGeEPtVmTHe"
      },
      "execution_count": 264,
      "outputs": []
    },
    {
      "cell_type": "markdown",
      "source": [
        "# Load the Dataset"
      ],
      "metadata": {
        "_uuid": "710c7bc8e8f0ebf31b579ae609e2c8b364e4b731",
        "id": "BC1hcvhCmTHf"
      }
    },
    {
      "cell_type": "code",
      "source": [
        "ESR = pd.read_csv('Epileptic Seizure Recognition.csv')\n",
        "ESR.head()"
      ],
      "metadata": {
        "_uuid": "ffb826c5e8da301b74c3a0161e7dcc079fec03ce",
        "_kg_hide-input": true,
        "trusted": true,
        "colab": {
          "base_uri": "https://localhost:8080/",
          "height": 235
        },
        "id": "rO9R1idImTHg",
        "outputId": "13b8bdfd-aa52-4e15-b582-1491e03ff07e"
      },
      "execution_count": 265,
      "outputs": [
        {
          "output_type": "execute_result",
          "data": {
            "text/plain": [
              "      Unnamed   X1   X2   X3   X4   X5   X6   X7   X8   X9  ...  X170  X171  \\\n",
              "0  X21.V1.791  135  190  229  223  192  125   55   -9  -33  ...   -17   -15   \n",
              "1  X15.V1.924  386  382  356  331  320  315  307  272  244  ...   164   150   \n",
              "2     X8.V1.1  -32  -39  -47  -37  -32  -36  -57  -73  -85  ...    57    64   \n",
              "3   X16.V1.60 -105 -101  -96  -92  -89  -95 -102 -100  -87  ...   -82   -81   \n",
              "4   X20.V1.54   -9  -65  -98 -102  -78  -48  -16    0  -21  ...     4     2   \n",
              "\n",
              "   X172  X173  X174  X175  X176  X177  X178  y  \n",
              "0   -31   -77  -103  -127  -116   -83   -51  4  \n",
              "1   146   152   157   156   154   143   129  1  \n",
              "2    48    19   -12   -30   -35   -35   -36  5  \n",
              "3   -80   -77   -85   -77   -72   -69   -65  5  \n",
              "4   -12   -32   -41   -65   -83   -89   -73  5  \n",
              "\n",
              "[5 rows x 180 columns]"
            ],
            "text/html": [
              "\n",
              "  <div id=\"df-0a4c807c-2b53-4030-bb42-784d8ab2c539\">\n",
              "    <div class=\"colab-df-container\">\n",
              "      <div>\n",
              "<style scoped>\n",
              "    .dataframe tbody tr th:only-of-type {\n",
              "        vertical-align: middle;\n",
              "    }\n",
              "\n",
              "    .dataframe tbody tr th {\n",
              "        vertical-align: top;\n",
              "    }\n",
              "\n",
              "    .dataframe thead th {\n",
              "        text-align: right;\n",
              "    }\n",
              "</style>\n",
              "<table border=\"1\" class=\"dataframe\">\n",
              "  <thead>\n",
              "    <tr style=\"text-align: right;\">\n",
              "      <th></th>\n",
              "      <th>Unnamed</th>\n",
              "      <th>X1</th>\n",
              "      <th>X2</th>\n",
              "      <th>X3</th>\n",
              "      <th>X4</th>\n",
              "      <th>X5</th>\n",
              "      <th>X6</th>\n",
              "      <th>X7</th>\n",
              "      <th>X8</th>\n",
              "      <th>X9</th>\n",
              "      <th>...</th>\n",
              "      <th>X170</th>\n",
              "      <th>X171</th>\n",
              "      <th>X172</th>\n",
              "      <th>X173</th>\n",
              "      <th>X174</th>\n",
              "      <th>X175</th>\n",
              "      <th>X176</th>\n",
              "      <th>X177</th>\n",
              "      <th>X178</th>\n",
              "      <th>y</th>\n",
              "    </tr>\n",
              "  </thead>\n",
              "  <tbody>\n",
              "    <tr>\n",
              "      <th>0</th>\n",
              "      <td>X21.V1.791</td>\n",
              "      <td>135</td>\n",
              "      <td>190</td>\n",
              "      <td>229</td>\n",
              "      <td>223</td>\n",
              "      <td>192</td>\n",
              "      <td>125</td>\n",
              "      <td>55</td>\n",
              "      <td>-9</td>\n",
              "      <td>-33</td>\n",
              "      <td>...</td>\n",
              "      <td>-17</td>\n",
              "      <td>-15</td>\n",
              "      <td>-31</td>\n",
              "      <td>-77</td>\n",
              "      <td>-103</td>\n",
              "      <td>-127</td>\n",
              "      <td>-116</td>\n",
              "      <td>-83</td>\n",
              "      <td>-51</td>\n",
              "      <td>4</td>\n",
              "    </tr>\n",
              "    <tr>\n",
              "      <th>1</th>\n",
              "      <td>X15.V1.924</td>\n",
              "      <td>386</td>\n",
              "      <td>382</td>\n",
              "      <td>356</td>\n",
              "      <td>331</td>\n",
              "      <td>320</td>\n",
              "      <td>315</td>\n",
              "      <td>307</td>\n",
              "      <td>272</td>\n",
              "      <td>244</td>\n",
              "      <td>...</td>\n",
              "      <td>164</td>\n",
              "      <td>150</td>\n",
              "      <td>146</td>\n",
              "      <td>152</td>\n",
              "      <td>157</td>\n",
              "      <td>156</td>\n",
              "      <td>154</td>\n",
              "      <td>143</td>\n",
              "      <td>129</td>\n",
              "      <td>1</td>\n",
              "    </tr>\n",
              "    <tr>\n",
              "      <th>2</th>\n",
              "      <td>X8.V1.1</td>\n",
              "      <td>-32</td>\n",
              "      <td>-39</td>\n",
              "      <td>-47</td>\n",
              "      <td>-37</td>\n",
              "      <td>-32</td>\n",
              "      <td>-36</td>\n",
              "      <td>-57</td>\n",
              "      <td>-73</td>\n",
              "      <td>-85</td>\n",
              "      <td>...</td>\n",
              "      <td>57</td>\n",
              "      <td>64</td>\n",
              "      <td>48</td>\n",
              "      <td>19</td>\n",
              "      <td>-12</td>\n",
              "      <td>-30</td>\n",
              "      <td>-35</td>\n",
              "      <td>-35</td>\n",
              "      <td>-36</td>\n",
              "      <td>5</td>\n",
              "    </tr>\n",
              "    <tr>\n",
              "      <th>3</th>\n",
              "      <td>X16.V1.60</td>\n",
              "      <td>-105</td>\n",
              "      <td>-101</td>\n",
              "      <td>-96</td>\n",
              "      <td>-92</td>\n",
              "      <td>-89</td>\n",
              "      <td>-95</td>\n",
              "      <td>-102</td>\n",
              "      <td>-100</td>\n",
              "      <td>-87</td>\n",
              "      <td>...</td>\n",
              "      <td>-82</td>\n",
              "      <td>-81</td>\n",
              "      <td>-80</td>\n",
              "      <td>-77</td>\n",
              "      <td>-85</td>\n",
              "      <td>-77</td>\n",
              "      <td>-72</td>\n",
              "      <td>-69</td>\n",
              "      <td>-65</td>\n",
              "      <td>5</td>\n",
              "    </tr>\n",
              "    <tr>\n",
              "      <th>4</th>\n",
              "      <td>X20.V1.54</td>\n",
              "      <td>-9</td>\n",
              "      <td>-65</td>\n",
              "      <td>-98</td>\n",
              "      <td>-102</td>\n",
              "      <td>-78</td>\n",
              "      <td>-48</td>\n",
              "      <td>-16</td>\n",
              "      <td>0</td>\n",
              "      <td>-21</td>\n",
              "      <td>...</td>\n",
              "      <td>4</td>\n",
              "      <td>2</td>\n",
              "      <td>-12</td>\n",
              "      <td>-32</td>\n",
              "      <td>-41</td>\n",
              "      <td>-65</td>\n",
              "      <td>-83</td>\n",
              "      <td>-89</td>\n",
              "      <td>-73</td>\n",
              "      <td>5</td>\n",
              "    </tr>\n",
              "  </tbody>\n",
              "</table>\n",
              "<p>5 rows × 180 columns</p>\n",
              "</div>\n",
              "      <button class=\"colab-df-convert\" onclick=\"convertToInteractive('df-0a4c807c-2b53-4030-bb42-784d8ab2c539')\"\n",
              "              title=\"Convert this dataframe to an interactive table.\"\n",
              "              style=\"display:none;\">\n",
              "        \n",
              "  <svg xmlns=\"http://www.w3.org/2000/svg\" height=\"24px\"viewBox=\"0 0 24 24\"\n",
              "       width=\"24px\">\n",
              "    <path d=\"M0 0h24v24H0V0z\" fill=\"none\"/>\n",
              "    <path d=\"M18.56 5.44l.94 2.06.94-2.06 2.06-.94-2.06-.94-.94-2.06-.94 2.06-2.06.94zm-11 1L8.5 8.5l.94-2.06 2.06-.94-2.06-.94L8.5 2.5l-.94 2.06-2.06.94zm10 10l.94 2.06.94-2.06 2.06-.94-2.06-.94-.94-2.06-.94 2.06-2.06.94z\"/><path d=\"M17.41 7.96l-1.37-1.37c-.4-.4-.92-.59-1.43-.59-.52 0-1.04.2-1.43.59L10.3 9.45l-7.72 7.72c-.78.78-.78 2.05 0 2.83L4 21.41c.39.39.9.59 1.41.59.51 0 1.02-.2 1.41-.59l7.78-7.78 2.81-2.81c.8-.78.8-2.07 0-2.86zM5.41 20L4 18.59l7.72-7.72 1.47 1.35L5.41 20z\"/>\n",
              "  </svg>\n",
              "      </button>\n",
              "      \n",
              "  <style>\n",
              "    .colab-df-container {\n",
              "      display:flex;\n",
              "      flex-wrap:wrap;\n",
              "      gap: 12px;\n",
              "    }\n",
              "\n",
              "    .colab-df-convert {\n",
              "      background-color: #E8F0FE;\n",
              "      border: none;\n",
              "      border-radius: 50%;\n",
              "      cursor: pointer;\n",
              "      display: none;\n",
              "      fill: #1967D2;\n",
              "      height: 32px;\n",
              "      padding: 0 0 0 0;\n",
              "      width: 32px;\n",
              "    }\n",
              "\n",
              "    .colab-df-convert:hover {\n",
              "      background-color: #E2EBFA;\n",
              "      box-shadow: 0px 1px 2px rgba(60, 64, 67, 0.3), 0px 1px 3px 1px rgba(60, 64, 67, 0.15);\n",
              "      fill: #174EA6;\n",
              "    }\n",
              "\n",
              "    [theme=dark] .colab-df-convert {\n",
              "      background-color: #3B4455;\n",
              "      fill: #D2E3FC;\n",
              "    }\n",
              "\n",
              "    [theme=dark] .colab-df-convert:hover {\n",
              "      background-color: #434B5C;\n",
              "      box-shadow: 0px 1px 3px 1px rgba(0, 0, 0, 0.15);\n",
              "      filter: drop-shadow(0px 1px 2px rgba(0, 0, 0, 0.3));\n",
              "      fill: #FFFFFF;\n",
              "    }\n",
              "  </style>\n",
              "\n",
              "      <script>\n",
              "        const buttonEl =\n",
              "          document.querySelector('#df-0a4c807c-2b53-4030-bb42-784d8ab2c539 button.colab-df-convert');\n",
              "        buttonEl.style.display =\n",
              "          google.colab.kernel.accessAllowed ? 'block' : 'none';\n",
              "\n",
              "        async function convertToInteractive(key) {\n",
              "          const element = document.querySelector('#df-0a4c807c-2b53-4030-bb42-784d8ab2c539');\n",
              "          const dataTable =\n",
              "            await google.colab.kernel.invokeFunction('convertToInteractive',\n",
              "                                                     [key], {});\n",
              "          if (!dataTable) return;\n",
              "\n",
              "          const docLinkHtml = 'Like what you see? Visit the ' +\n",
              "            '<a target=\"_blank\" href=https://colab.research.google.com/notebooks/data_table.ipynb>data table notebook</a>'\n",
              "            + ' to learn more about interactive tables.';\n",
              "          element.innerHTML = '';\n",
              "          dataTable['output_type'] = 'display_data';\n",
              "          await google.colab.output.renderOutput(dataTable, element);\n",
              "          const docLink = document.createElement('div');\n",
              "          docLink.innerHTML = docLinkHtml;\n",
              "          element.appendChild(docLink);\n",
              "        }\n",
              "      </script>\n",
              "    </div>\n",
              "  </div>\n",
              "  "
            ]
          },
          "metadata": {},
          "execution_count": 265
        }
      ]
    },
    {
      "cell_type": "markdown",
      "source": [
        "# Read and Show Dataset\n",
        "* The original dataset from the reference consists of 5 different folders, each with 100 files, with each file representing a single subject/person. Each file is a recording of brain activity for 23.6 seconds.\n",
        "\n",
        "* The corresponding time-series is sampled into 4097 data points. Each data point is the value of the EEG recording at a different point in time. So we have total 500 individuals with each has 4097 data points for 23.5 seconds.\n",
        "\n",
        "* We divided and shuffled every 4097 data points into 23 chunks, each chunk contains 178 data points for 1 second, and each data point is the value of the EEG recording at a different point in time.\n",
        "\n",
        "* So now we have 23 x 500 = 11500 pieces of information(row), each information contains 178 data points for 1 second(column), the last column represents the label y {1,2,3,4,5}.\n",
        "\n",
        "* The response variable is y in column 179, the Explanatory variables X1, X2, ..., X178"
      ],
      "metadata": {
        "_uuid": "f747e03448e282cdb4f5a611a8aa2191acc71c80",
        "id": "K30VXez5mTHh"
      }
    },
    {
      "cell_type": "code",
      "source": [
        "cols = ESR.columns\n",
        "tgt = ESR.y\n",
        "tgt.unique()\n",
        "tgt[tgt>1]=0\n",
        "ax = sn.countplot(tgt,label=\"Count\")\n",
        "non_seizure, seizure = tgt.value_counts()\n",
        "print('The number of trials for the non-seizure class is:', non_seizure)\n",
        "print('The number of trials for the seizure class is:', seizure)\n"
      ],
      "metadata": {
        "_kg_hide-input": true,
        "_uuid": "17c90c1ff8add7ace30bd8d2cfb1fa5cb48c0e48",
        "trusted": true,
        "colab": {
          "base_uri": "https://localhost:8080/",
          "height": 455
        },
        "id": "FswimyKDmTHj",
        "outputId": "38757986-a906-4188-e766-1df012fe0032"
      },
      "execution_count": 266,
      "outputs": [
        {
          "output_type": "stream",
          "name": "stdout",
          "text": [
            "The number of trials for the non-seizure class is: 9200\n",
            "The number of trials for the seizure class is: 2300\n"
          ]
        },
        {
          "output_type": "stream",
          "name": "stderr",
          "text": [
            "/usr/local/lib/python3.7/dist-packages/ipykernel_launcher.py:4: SettingWithCopyWarning: \n",
            "A value is trying to be set on a copy of a slice from a DataFrame\n",
            "\n",
            "See the caveats in the documentation: https://pandas.pydata.org/pandas-docs/stable/user_guide/indexing.html#returning-a-view-versus-a-copy\n",
            "  after removing the cwd from sys.path.\n",
            "/usr/local/lib/python3.7/dist-packages/seaborn/_decorators.py:43: FutureWarning: Pass the following variable as a keyword arg: x. From version 0.12, the only valid positional argument will be `data`, and passing other arguments without an explicit keyword will result in an error or misinterpretation.\n",
            "  FutureWarning\n"
          ]
        },
        {
          "output_type": "display_data",
          "data": {
            "text/plain": [
              "<Figure size 432x288 with 1 Axes>"
            ],
            "image/png": "[encoded data removed]"
          },
          "metadata": {
            "needs_background": "light"
          }
        }
      ]
    },
    {
      "cell_type": "markdown",
      "source": [
        "As we can see, there are 178 EEG features and 5 possible classes. The main goal of the dataset it's to be able to correctly identify epileptic seizures from EEG data, so a binary classification between classes of label 1 and the rest (2,3,4,5). In order to train our model, let's define our independent variables (X) and our dependent variable (y)."
      ],
      "metadata": {
        "_uuid": "3b8358047321392e0f1a2fb20ca53c6668d8cdf3",
        "id": "pJRr9c56mTHk"
      }
    },
    {
      "cell_type": "markdown",
      "source": [
        "# &#128205; Data Pre-processing\n",
        "\n",
        "## What is Data Pre-pocessing?\n",
        "Data preprocessing is a data mining technique that involves transforming raw data into an understandable format. Real-world data is often incomplete, inconsistent, and/or lacking in certain behaviors or trends, and is likely to contain many errors. Data preprocessing is a proven method of resolving such issues. Data preprocessing prepares raw data for further processing.\n",
        "> "
      ],
      "metadata": {
        "_uuid": "85c42387f7cbe1d864e6ecd78110d36543b49c94",
        "trusted": true,
        "id": "g-OuxvbrmTHk"
      }
    },
    {
      "cell_type": "markdown",
      "source": [
        "# &#128205; 1. Checking Missing Data[](http://)"
      ],
      "metadata": {
        "_uuid": "552d8f6aa05052620464a652d2a381c266a2fd98",
        "trusted": true,
        "id": "JFlS49lumTHk"
      }
    },
    {
      "cell_type": "code",
      "source": [
        "ESR.isnull().sum()"
      ],
      "metadata": {
        "_kg_hide-input": true,
        "_uuid": "aad4b40423e626080316e9baf284b7ee75b64d08",
        "trusted": true,
        "colab": {
          "base_uri": "https://localhost:8080/"
        },
        "id": "B3FoW95emTHl",
        "outputId": "6b1f31b0-cea4-4c30-cbfc-3506079ded04"
      },
      "execution_count": 267,
      "outputs": [
        {
          "output_type": "execute_result",
          "data": {
            "text/plain": [
              "Unnamed    0\n",
              "X1         0\n",
              "X2         0\n",
              "X3         0\n",
              "X4         0\n",
              "          ..\n",
              "X175       0\n",
              "X176       0\n",
              "X177       0\n",
              "X178       0\n",
              "y          0\n",
              "Length: 180, dtype: int64"
            ]
          },
          "metadata": {},
          "execution_count": 267
        }
      ]
    },
    {
      "cell_type": "code",
      "source": [
        "ESR.info()"
      ],
      "metadata": {
        "_kg_hide-input": true,
        "_uuid": "e88bcff9f978e728a07d29bd99eee000ec0e3bcc",
        "trusted": true,
        "colab": {
          "base_uri": "https://localhost:8080/"
        },
        "id": "mQY8DIKZmTHl",
        "outputId": "b2c3cbbb-2816-4b64-d73e-289ce5174b29"
      },
      "execution_count": 268,
      "outputs": [
        {
          "output_type": "stream",
          "name": "stdout",
          "text": [
            "<class 'pandas.core.frame.DataFrame'>\n",
            "RangeIndex: 11500 entries, 0 to 11499\n",
            "Columns: 180 entries, Unnamed to y\n",
            "dtypes: int64(179), object(1)\n",
            "memory usage: 15.8+ MB\n"
          ]
        }
      ]
    },
    {
      "cell_type": "code",
      "source": [
        "ESR.describe()"
      ],
      "metadata": {
        "_kg_hide-input": true,
        "_uuid": "c59e74a086f2f41b14f793b599f0938cdab43704",
        "trusted": true,
        "colab": {
          "base_uri": "https://localhost:8080/",
          "height": 394
        },
        "id": "SghwCRhjmTHl",
        "outputId": "d3686451-e189-4641-a0d2-91166aa658e5"
      },
      "execution_count": 269,
      "outputs": [
        {
          "output_type": "execute_result",
          "data": {
            "text/plain": [
              "                 X1            X2            X3            X4            X5  \\\n",
              "count  11500.000000  11500.000000  11500.000000  11500.000000  11500.000000   \n",
              "mean     -11.581391    -10.911565    -10.187130     -9.143043     -8.009739   \n",
              "std      165.626284    166.059609    163.524317    161.269041    160.998007   \n",
              "min    -1839.000000  -1838.000000  -1835.000000  -1845.000000  -1791.000000   \n",
              "25%      -54.000000    -55.000000    -54.000000    -54.000000    -54.000000   \n",
              "50%       -8.000000     -8.000000     -7.000000     -8.000000     -8.000000   \n",
              "75%       34.000000     35.000000     36.000000     36.000000     35.000000   \n",
              "max     1726.000000   1713.000000   1697.000000   1612.000000   1518.000000   \n",
              "\n",
              "                 X6            X7           X8           X9           X10  \\\n",
              "count  11500.000000  11500.000000  11500.00000  11500.00000  11500.000000   \n",
              "mean      -7.003478     -6.502087     -6.68713     -6.55800     -6.168435   \n",
              "std      161.328725    161.467837    162.11912    162.03336    160.436352   \n",
              "min    -1757.000000  -1832.000000  -1778.00000  -1840.00000  -1867.000000   \n",
              "25%      -54.000000    -54.000000    -55.00000    -55.00000    -54.000000   \n",
              "50%       -8.000000     -8.000000     -8.00000     -7.00000     -7.000000   \n",
              "75%       36.000000     35.000000     36.00000     36.00000     35.250000   \n",
              "max     1816.000000   2047.000000   2047.00000   2047.00000   2047.000000   \n",
              "\n",
              "       ...          X170          X171          X172          X173  \\\n",
              "count  ...  11500.000000  11500.000000  11500.000000  11500.000000   \n",
              "mean   ...    -10.145739    -11.630348    -12.943478    -13.668870   \n",
              "std    ...    164.652883    166.149790    168.554058    168.556486   \n",
              "min    ...  -1867.000000  -1865.000000  -1642.000000  -1723.000000   \n",
              "25%    ...    -55.000000    -56.000000    -56.000000    -56.000000   \n",
              "50%    ...     -9.000000    -10.000000    -10.000000    -10.000000   \n",
              "75%    ...     34.000000     34.000000     33.000000     33.000000   \n",
              "max    ...   1777.000000   1472.000000   1319.000000   1436.000000   \n",
              "\n",
              "               X174          X175          X176          X177          X178  \\\n",
              "count  11500.000000  11500.000000  11500.000000  11500.000000  11500.000000   \n",
              "mean     -13.363304    -13.045043    -12.705130    -12.426000    -12.195652   \n",
              "std      167.257290    164.241019    162.895832    162.886311    164.852015   \n",
              "min    -1866.000000  -1863.000000  -1781.000000  -1727.000000  -1829.000000   \n",
              "25%      -55.000000    -56.000000    -55.000000    -55.000000    -55.000000   \n",
              "50%      -10.000000     -9.000000     -9.000000     -9.000000     -9.000000   \n",
              "75%       34.000000     34.000000     34.000000     34.000000     34.000000   \n",
              "max     1733.000000   1958.000000   2047.000000   2047.000000   1915.000000   \n",
              "\n",
              "                  y  \n",
              "count  11500.000000  \n",
              "mean       0.200000  \n",
              "std        0.400017  \n",
              "min        0.000000  \n",
              "25%        0.000000  \n",
              "50%        0.000000  \n",
              "75%        0.000000  \n",
              "max        1.000000  \n",
              "\n",
              "[8 rows x 179 columns]"
            ],
            "text/html": [
              "\n",
              "  <div id=\"df-9851b413-4cc2-49e6-88d5-531c4ded198b\">\n",
              "    <div class=\"colab-df-container\">\n",
              "      <div>\n",
              "<style scoped>\n",
              "    .dataframe tbody tr th:only-of-type {\n",
              "        vertical-align: middle;\n",
              "    }\n",
              "\n",
              "    .dataframe tbody tr th {\n",
              "        vertical-align: top;\n",
              "    }\n",
              "\n",
              "    .dataframe thead th {\n",
              "        text-align: right;\n",
              "    }\n",
              "</style>\n",
              "<table border=\"1\" class=\"dataframe\">\n",
              "  <thead>\n",
              "    <tr style=\"text-align: right;\">\n",
              "      <th></th>\n",
              "      <th>X1</th>\n",
              "      <th>X2</th>\n",
              "      <th>X3</th>\n",
              "      <th>X4</th>\n",
              "      <th>X5</th>\n",
              "      <th>X6</th>\n",
              "      <th>X7</th>\n",
              "      <th>X8</th>\n",
              "      <th>X9</th>\n",
              "      <th>X10</th>\n",
              "      <th>...</th>\n",
              "      <th>X170</th>\n",
              "      <th>X171</th>\n",
              "      <th>X172</th>\n",
              "      <th>X173</th>\n",
              "      <th>X174</th>\n",
              "      <th>X175</th>\n",
              "      <th>X176</th>\n",
              "      <th>X177</th>\n",
              "      <th>X178</th>\n",
              "      <th>y</th>\n",
              "    </tr>\n",
              "  </thead>\n",
              "  <tbody>\n",
              "    <tr>\n",
              "      <th>count</th>\n",
              "      <td>11500.000000</td>\n",
              "      <td>11500.000000</td>\n",
              "      <td>11500.000000</td>\n",
              "      <td>11500.000000</td>\n",
              "      <td>11500.000000</td>\n",
              "      <td>11500.000000</td>\n",
              "      <td>11500.000000</td>\n",
              "      <td>11500.00000</td>\n",
              "      <td>11500.00000</td>\n",
              "      <td>11500.000000</td>\n",
              "      <td>...</td>\n",
              "      <td>11500.000000</td>\n",
              "      <td>11500.000000</td>\n",
              "      <td>11500.000000</td>\n",
              "      <td>11500.000000</td>\n",
              "      <td>11500.000000</td>\n",
              "      <td>11500.000000</td>\n",
              "      <td>11500.000000</td>\n",
              "      <td>11500.000000</td>\n",
              "      <td>11500.000000</td>\n",
              "      <td>11500.000000</td>\n",
              "    </tr>\n",
              "    <tr>\n",
              "      <th>mean</th>\n",
              "      <td>-11.581391</td>\n",
              "      <td>-10.911565</td>\n",
              "      <td>-10.187130</td>\n",
              "      <td>-9.143043</td>\n",
              "      <td>-8.009739</td>\n",
              "      <td>-7.003478</td>\n",
              "      <td>-6.502087</td>\n",
              "      <td>-6.68713</td>\n",
              "      <td>-6.55800</td>\n",
              "      <td>-6.168435</td>\n",
              "      <td>...</td>\n",
              "      <td>-10.145739</td>\n",
              "      <td>-11.630348</td>\n",
              "      <td>-12.943478</td>\n",
              "      <td>-13.668870</td>\n",
              "      <td>-13.363304</td>\n",
              "      <td>-13.045043</td>\n",
              "      <td>-12.705130</td>\n",
              "      <td>-12.426000</td>\n",
              "      <td>-12.195652</td>\n",
              "      <td>0.200000</td>\n",
              "    </tr>\n",
              "    <tr>\n",
              "      <th>std</th>\n",
              "      <td>165.626284</td>\n",
              "      <td>166.059609</td>\n",
              "      <td>163.524317</td>\n",
              "      <td>161.269041</td>\n",
              "      <td>160.998007</td>\n",
              "      <td>161.328725</td>\n",
              "      <td>161.467837</td>\n",
              "      <td>162.11912</td>\n",
              "      <td>162.03336</td>\n",
              "      <td>160.436352</td>\n",
              "      <td>...</td>\n",
              "      <td>164.652883</td>\n",
              "      <td>166.149790</td>\n",
              "      <td>168.554058</td>\n",
              "      <td>168.556486</td>\n",
              "      <td>167.257290</td>\n",
              "      <td>164.241019</td>\n",
              "      <td>162.895832</td>\n",
              "      <td>162.886311</td>\n",
              "      <td>164.852015</td>\n",
              "      <td>0.400017</td>\n",
              "    </tr>\n",
              "    <tr>\n",
              "      <th>min</th>\n",
              "      <td>-1839.000000</td>\n",
              "      <td>-1838.000000</td>\n",
              "      <td>-1835.000000</td>\n",
              "      <td>-1845.000000</td>\n",
              "      <td>-1791.000000</td>\n",
              "      <td>-1757.000000</td>\n",
              "      <td>-1832.000000</td>\n",
              "      <td>-1778.00000</td>\n",
              "      <td>-1840.00000</td>\n",
              "      <td>-1867.000000</td>\n",
              "      <td>...</td>\n",
              "      <td>-1867.000000</td>\n",
              "      <td>-1865.000000</td>\n",
              "      <td>-1642.000000</td>\n",
              "      <td>-1723.000000</td>\n",
              "      <td>-1866.000000</td>\n",
              "      <td>-1863.000000</td>\n",
              "      <td>-1781.000000</td>\n",
              "      <td>-1727.000000</td>\n",
              "      <td>-1829.000000</td>\n",
              "      <td>0.000000</td>\n",
              "    </tr>\n",
              "    <tr>\n",
              "      <th>25%</th>\n",
              "      <td>-54.000000</td>\n",
              "      <td>-55.000000</td>\n",
              "      <td>-54.000000</td>\n",
              "      <td>-54.000000</td>\n",
              "      <td>-54.000000</td>\n",
              "      <td>-54.000000</td>\n",
              "      <td>-54.000000</td>\n",
              "      <td>-55.00000</td>\n",
              "      <td>-55.00000</td>\n",
              "      <td>-54.000000</td>\n",
              "      <td>...</td>\n",
              "      <td>-55.000000</td>\n",
              "      <td>-56.000000</td>\n",
              "      <td>-56.000000</td>\n",
              "      <td>-56.000000</td>\n",
              "      <td>-55.000000</td>\n",
              "      <td>-56.000000</td>\n",
              "      <td>-55.000000</td>\n",
              "      <td>-55.000000</td>\n",
              "      <td>-55.000000</td>\n",
              "      <td>0.000000</td>\n",
              "    </tr>\n",
              "    <tr>\n",
              "      <th>50%</th>\n",
              "      <td>-8.000000</td>\n",
              "      <td>-8.000000</td>\n",
              "      <td>-7.000000</td>\n",
              "      <td>-8.000000</td>\n",
              "      <td>-8.000000</td>\n",
              "      <td>-8.000000</td>\n",
              "      <td>-8.000000</td>\n",
              "      <td>-8.00000</td>\n",
              "      <td>-7.00000</td>\n",
              "      <td>-7.000000</td>\n",
              "      <td>...</td>\n",
              "      <td>-9.000000</td>\n",
              "      <td>-10.000000</td>\n",
              "      <td>-10.000000</td>\n",
              "      <td>-10.000000</td>\n",
              "      <td>-10.000000</td>\n",
              "      <td>-9.000000</td>\n",
              "      <td>-9.000000</td>\n",
              "      <td>-9.000000</td>\n",
              "      <td>-9.000000</td>\n",
              "      <td>0.000000</td>\n",
              "    </tr>\n",
              "    <tr>\n",
              "      <th>75%</th>\n",
              "      <td>34.000000</td>\n",
              "      <td>35.000000</td>\n",
              "      <td>36.000000</td>\n",
              "      <td>36.000000</td>\n",
              "      <td>35.000000</td>\n",
              "      <td>36.000000</td>\n",
              "      <td>35.000000</td>\n",
              "      <td>36.00000</td>\n",
              "      <td>36.00000</td>\n",
              "      <td>35.250000</td>\n",
              "      <td>...</td>\n",
              "      <td>34.000000</td>\n",
              "      <td>34.000000</td>\n",
              "      <td>33.000000</td>\n",
              "      <td>33.000000</td>\n",
              "      <td>34.000000</td>\n",
              "      <td>34.000000</td>\n",
              "      <td>34.000000</td>\n",
              "      <td>34.000000</td>\n",
              "      <td>34.000000</td>\n",
              "      <td>0.000000</td>\n",
              "    </tr>\n",
              "    <tr>\n",
              "      <th>max</th>\n",
              "      <td>1726.000000</td>\n",
              "      <td>1713.000000</td>\n",
              "      <td>1697.000000</td>\n",
              "      <td>1612.000000</td>\n",
              "      <td>1518.000000</td>\n",
              "      <td>1816.000000</td>\n",
              "      <td>2047.000000</td>\n",
              "      <td>2047.00000</td>\n",
              "      <td>2047.00000</td>\n",
              "      <td>2047.000000</td>\n",
              "      <td>...</td>\n",
              "      <td>1777.000000</td>\n",
              "      <td>1472.000000</td>\n",
              "      <td>1319.000000</td>\n",
              "      <td>1436.000000</td>\n",
              "      <td>1733.000000</td>\n",
              "      <td>1958.000000</td>\n",
              "      <td>2047.000000</td>\n",
              "      <td>2047.000000</td>\n",
              "      <td>1915.000000</td>\n",
              "      <td>1.000000</td>\n",
              "    </tr>\n",
              "  </tbody>\n",
              "</table>\n",
              "<p>8 rows × 179 columns</p>\n",
              "</div>\n",
              "      <button class=\"colab-df-convert\" onclick=\"convertToInteractive('df-9851b413-4cc2-49e6-88d5-531c4ded198b')\"\n",
              "              title=\"Convert this dataframe to an interactive table.\"\n",
              "              style=\"display:none;\">\n",
              "        \n",
              "  <svg xmlns=\"http://www.w3.org/2000/svg\" height=\"24px\"viewBox=\"0 0 24 24\"\n",
              "       width=\"24px\">\n",
              "    <path d=\"M0 0h24v24H0V0z\" fill=\"none\"/>\n",
              "    <path d=\"M18.56 5.44l.94 2.06.94-2.06 2.06-.94-2.06-.94-.94-2.06-.94 2.06-2.06.94zm-11 1L8.5 8.5l.94-2.06 2.06-.94-2.06-.94L8.5 2.5l-.94 2.06-2.06.94zm10 10l.94 2.06.94-2.06 2.06-.94-2.06-.94-.94-2.06-.94 2.06-2.06.94z\"/><path d=\"M17.41 7.96l-1.37-1.37c-.4-.4-.92-.59-1.43-.59-.52 0-1.04.2-1.43.59L10.3 9.45l-7.72 7.72c-.78.78-.78 2.05 0 2.83L4 21.41c.39.39.9.59 1.41.59.51 0 1.02-.2 1.41-.59l7.78-7.78 2.81-2.81c.8-.78.8-2.07 0-2.86zM5.41 20L4 18.59l7.72-7.72 1.47 1.35L5.41 20z\"/>\n",
              "  </svg>\n",
              "      </button>\n",
              "      \n",
              "  <style>\n",
              "    .colab-df-container {\n",
              "      display:flex;\n",
              "      flex-wrap:wrap;\n",
              "      gap: 12px;\n",
              "    }\n",
              "\n",
              "    .colab-df-convert {\n",
              "      background-color: #E8F0FE;\n",
              "      border: none;\n",
              "      border-radius: 50%;\n",
              "      cursor: pointer;\n",
              "      display: none;\n",
              "      fill: #1967D2;\n",
              "      height: 32px;\n",
              "      padding: 0 0 0 0;\n",
              "      width: 32px;\n",
              "    }\n",
              "\n",
              "    .colab-df-convert:hover {\n",
              "      background-color: #E2EBFA;\n",
              "      box-shadow: 0px 1px 2px rgba(60, 64, 67, 0.3), 0px 1px 3px 1px rgba(60, 64, 67, 0.15);\n",
              "      fill: #174EA6;\n",
              "    }\n",
              "\n",
              "    [theme=dark] .colab-df-convert {\n",
              "      background-color: #3B4455;\n",
              "      fill: #D2E3FC;\n",
              "    }\n",
              "\n",
              "    [theme=dark] .colab-df-convert:hover {\n",
              "      background-color: #434B5C;\n",
              "      box-shadow: 0px 1px 3px 1px rgba(0, 0, 0, 0.15);\n",
              "      filter: drop-shadow(0px 1px 2px rgba(0, 0, 0, 0.3));\n",
              "      fill: #FFFFFF;\n",
              "    }\n",
              "  </style>\n",
              "\n",
              "      <script>\n",
              "        const buttonEl =\n",
              "          document.querySelector('#df-9851b413-4cc2-49e6-88d5-531c4ded198b button.colab-df-convert');\n",
              "        buttonEl.style.display =\n",
              "          google.colab.kernel.accessAllowed ? 'block' : 'none';\n",
              "\n",
              "        async function convertToInteractive(key) {\n",
              "          const element = document.querySelector('#df-9851b413-4cc2-49e6-88d5-531c4ded198b');\n",
              "          const dataTable =\n",
              "            await google.colab.kernel.invokeFunction('convertToInteractive',\n",
              "                                                     [key], {});\n",
              "          if (!dataTable) return;\n",
              "\n",
              "          const docLinkHtml = 'Like what you see? Visit the ' +\n",
              "            '<a target=\"_blank\" href=https://colab.research.google.com/notebooks/data_table.ipynb>data table notebook</a>'\n",
              "            + ' to learn more about interactive tables.';\n",
              "          element.innerHTML = '';\n",
              "          dataTable['output_type'] = 'display_data';\n",
              "          await google.colab.output.renderOutput(dataTable, element);\n",
              "          const docLink = document.createElement('div');\n",
              "          docLink.innerHTML = docLinkHtml;\n",
              "          element.appendChild(docLink);\n",
              "        }\n",
              "      </script>\n",
              "    </div>\n",
              "  </div>\n",
              "  "
            ]
          },
          "metadata": {},
          "execution_count": 269
        }
      ]
    },
    {
      "cell_type": "code",
      "source": [
        "X = ESR.iloc[:,1:179].values\n",
        "X.shape"
      ],
      "metadata": {
        "_kg_hide-input": true,
        "_uuid": "38ab208871375f43e6afced6a807f23a85468a68",
        "trusted": true,
        "colab": {
          "base_uri": "https://localhost:8080/"
        },
        "id": "F3mieedPmTHm",
        "outputId": "d1dfb0bd-8020-4f64-afaf-c4e6d4dc113b"
      },
      "execution_count": 270,
      "outputs": [
        {
          "output_type": "execute_result",
          "data": {
            "text/plain": [
              "(11500, 178)"
            ]
          },
          "metadata": {},
          "execution_count": 270
        }
      ]
    },
    {
      "cell_type": "code",
      "source": [
        "plt.subplot(511)\n",
        "plt.plot(X[1,:])\n",
        "plt.title('Classes')\n",
        "plt.ylabel('uV')\n",
        "plt.subplot(512)\n",
        "plt.plot(X[7,:])\n",
        "plt.subplot(513)\n",
        "plt.plot(X[12,:])\n",
        "plt.subplot(514)\n",
        "plt.plot(X[0,:])\n",
        "plt.subplot(515)\n",
        "plt.plot(X[2,:])\n",
        "plt.xlabel('Samples')"
      ],
      "metadata": {
        "_kg_hide-input": true,
        "_uuid": "1c4c72aceecdc35866aee2ec777a435abaf46fc3",
        "trusted": true,
        "colab": {
          "base_uri": "https://localhost:8080/",
          "height": 312
        },
        "id": "Z-fImwh7mTHm",
        "outputId": "f1f09973-971b-4ac3-a356-65f98e2ad827"
      },
      "execution_count": 271,
      "outputs": [
        {
          "output_type": "execute_result",
          "data": {
            "text/plain": [
              "Text(0.5, 0, 'Samples')"
            ]
          },
          "metadata": {},
          "execution_count": 271
        },
        {
          "output_type": "display_data",
          "data": {
            "text/plain": [
              "<Figure size 432x288 with 5 Axes>"
            ],
            "image/png": "[encoded data removed]"
          },
          "metadata": {
            "needs_background": "light"
          }
        }
      ]
    },
    {
      "cell_type": "code",
      "source": [
        "y = ESR.iloc[:,179].values\n",
        "print(\"le shape de y: \", y.shape)"
      ],
      "metadata": {
        "_kg_hide-input": true,
        "_uuid": "32875b29c90672f90bdba34fcb94656dfce9fb70",
        "trusted": true,
        "colab": {
          "base_uri": "https://localhost:8080/"
        },
        "id": "XpnYBjSJmTHm",
        "outputId": "b7e7fea4-21c9-4c18-b3ff-40d53aa25bc4"
      },
      "execution_count": 272,
      "outputs": [
        {
          "output_type": "stream",
          "name": "stdout",
          "text": [
            "le shape de y:  (11500,)\n"
          ]
        }
      ]
    },
    {
      "cell_type": "markdown",
      "source": [
        "To make this a binary problem, let's turn the non-seizure classes 0 while maintaining the seizure as 1."
      ],
      "metadata": {
        "_uuid": "182336e56e686533317d167bda1b5de60e3a3d14",
        "id": "sKkOrzmFmTHn"
      }
    },
    {
      "cell_type": "code",
      "source": [
        "y[y>1]=0\n",
        "y"
      ],
      "metadata": {
        "_kg_hide-input": true,
        "_uuid": "67cdd58fc5bdc0fea9fff3a6c3eb030d17bb5fef",
        "trusted": true,
        "colab": {
          "base_uri": "https://localhost:8080/"
        },
        "id": "BpzLoz5omTHn",
        "outputId": "9d80483f-b90c-41cf-bcec-c63a3b251731"
      },
      "execution_count": 273,
      "outputs": [
        {
          "output_type": "execute_result",
          "data": {
            "text/plain": [
              "array([0, 1, 0, ..., 0, 0, 0])"
            ]
          },
          "metadata": {},
          "execution_count": 273
        }
      ]
    },
    {
      "cell_type": "markdown",
      "source": [
        "# &#128295; Building Machine Learning Models"
      ],
      "metadata": {
        "_uuid": "d8f8bee91ce354f316e8ebb6d43f3a38d468c06e",
        "id": "jy9AYyCQmTHn"
      }
    },
    {
      "cell_type": "markdown",
      "source": [
        "##  Splitting the Dataset into the Training set and Test set\n"
      ],
      "metadata": {
        "_uuid": "3935f14daec0df6ff948054196c77fdf6a8d9196",
        "id": "_oXt2py6mTHn"
      }
    },
    {
      "cell_type": "code",
      "source": [
        "!pip install keras"
      ],
      "metadata": {
        "colab": {
          "base_uri": "https://localhost:8080/"
        },
        "id": "GGryNh6lpgtH",
        "outputId": "efd9fe66-a280-42ab-ddc1-578b7bb98254"
      },
      "execution_count": 274,
      "outputs": [
        {
          "output_type": "stream",
          "name": "stdout",
          "text": [
            "Requirement already satisfied: keras in /usr/local/lib/python3.7/dist-packages (2.8.0)\n"
          ]
        }
      ]
    },
    {
      "cell_type": "code",
      "source": [
        "from sklearn.preprocessing import StandardScaler\n",
        "scaler = StandardScaler()\n",
        "scaler.fit(X)\n",
        "x = scaler.transform(X)\n",
        "from tensorflow.keras.utils import to_categorical\n",
        "y = to_categorical(y)\n",
        "y"
      ],
      "metadata": {
        "trusted": true,
        "colab": {
          "base_uri": "https://localhost:8080/"
        },
        "id": "i3-u5c1fmTHo",
        "outputId": "2b667e46-3ac7-42ed-e1a0-e3acd2732ee5"
      },
      "execution_count": 275,
      "outputs": [
        {
          "output_type": "execute_result",
          "data": {
            "text/plain": [
              "array([[1., 0.],\n",
              "       [0., 1.],\n",
              "       [1., 0.],\n",
              "       ...,\n",
              "       [1., 0.],\n",
              "       [1., 0.],\n",
              "       [1., 0.]], dtype=float32)"
            ]
          },
          "metadata": {},
          "execution_count": 275
        }
      ]
    },
    {
      "cell_type": "code",
      "source": [
        "from sklearn.model_selection import train_test_split, cross_val_score\n",
        "x_train, x_test, y_train, y_test = train_test_split(X, y, test_size = 0.2)\n",
        "print(f\"le train size pour x: {x_train.shape}, pour y: {y_train.shape}\")\n",
        "print(f\"le test size pour x: {x_test.shape}, pour y: {y_test.shape}\")"
      ],
      "metadata": {
        "_kg_hide-input": true,
        "_uuid": "98ca8b335764e01df2b8aaa10183a4e577854d30",
        "trusted": true,
        "id": "RfXTIHhxmTHo",
        "colab": {
          "base_uri": "https://localhost:8080/"
        },
        "outputId": "6724b6bb-e91f-4c38-e8e4-b944f2d70bcf"
      },
      "execution_count": 276,
      "outputs": [
        {
          "output_type": "stream",
          "name": "stdout",
          "text": [
            "le train size pour x: (9200, 178), pour y: (9200, 2)\n",
            "le test size pour x: (2300, 178), pour y: (2300, 2)\n"
          ]
        }
      ]
    },
    {
      "cell_type": "code",
      "source": [
        "#y_train = y_train.reshape(-1,1)\n",
        "#y_test = y_test.reshape(-1,1)"
      ],
      "metadata": {
        "id": "hJ4hWeH4rxKI"
      },
      "execution_count": 277,
      "outputs": []
    },
    {
      "cell_type": "markdown",
      "source": [
        "## Feature Scaling"
      ],
      "metadata": {
        "_uuid": "215e46fbe236162ccd3f551bdd4f58c4e13f30fd",
        "id": "5rtm2_tdmTHo"
      }
    },
    {
      "cell_type": "code",
      "source": [
        "x_train = np.reshape(x_train, (x_train.shape[0],1,X.shape[1]))\n",
        "x_test = np.reshape(x_test, (x_test.shape[0],1,X.shape[1]))"
      ],
      "metadata": {
        "trusted": true,
        "id": "zUHR7xp1mTHo"
      },
      "execution_count": 278,
      "outputs": []
    },
    {
      "cell_type": "code",
      "source": [
        "print(f\"le train size pour x: {x_train.shape}, pour y: {y_train.shape}\")\n",
        "print(f\"le test size pour x: {x_test.shape}, pour y: {y_test.shape}\")"
      ],
      "metadata": {
        "colab": {
          "base_uri": "https://localhost:8080/"
        },
        "id": "0J3E7gnTs_sp",
        "outputId": "d03e8118-0fad-42ad-9d73-567c458eed75"
      },
      "execution_count": 279,
      "outputs": [
        {
          "output_type": "stream",
          "name": "stdout",
          "text": [
            "le train size pour x: (9200, 1, 178), pour y: (9200, 2)\n",
            "le test size pour x: (2300, 1, 178), pour y: (2300, 2)\n"
          ]
        }
      ]
    },
    {
      "cell_type": "code",
      "source": [
        "import tensorflow as tf\n",
        "from tensorflow.keras import Sequential\n",
        "\n",
        "from tensorflow.keras.layers import Dense, Dropout\n",
        "from tensorflow.keras.layers import Embedding\n",
        "from tensorflow.keras.layers import LSTM\n",
        "tf.keras.backend.clear_session()\n",
        "\n",
        "model = Sequential()\n",
        "model.add(LSTM(64, input_shape=(1,178),activation=\"relu\",return_sequences=True))\n",
        "model.add(Dropout(0.2))\n",
        "model.add(LSTM(32,activation=\"sigmoid\"))\n",
        "model.add(Dropout(0.5))\n",
        "#model.add(LSTM(100,return_sequences=True))\n",
        "#model.add(Dropout(0.2))\n",
        "#model.add(LSTM(50))\n",
        "#model.add(Dropout(0.2))\n",
        "model.add(Dense(2, activation='sigmoid'))\n",
        "from tensorflow.keras.optimizers import SGD\n",
        "model.compile(loss = 'binary_crossentropy', optimizer = \"adam\", metrics = ['accuracy'])\n",
        "model.summary()"
      ],
      "metadata": {
        "trusted": true,
        "colab": {
          "base_uri": "https://localhost:8080/"
        },
        "id": "CBxOru0WmTHp",
        "outputId": "fc0d9a57-9e2f-482c-9505-180d4a4b0b46"
      },
      "execution_count": 280,
      "outputs": [
        {
          "output_type": "stream",
          "name": "stdout",
          "text": [
            "Model: \"sequential\"\n",
            "_________________________________________________________________\n",
            " Layer (type)                Output Shape              Param #   \n",
            "=================================================================\n",
            " lstm (LSTM)                 (None, 1, 64)             62208     \n",
            "                                                                 \n",
            " dropout (Dropout)           (None, 1, 64)             0         \n",
            "                                                                 \n",
            " lstm_1 (LSTM)               (None, 32)                12416     \n",
            "                                                                 \n",
            " dropout_1 (Dropout)         (None, 32)                0         \n",
            "                                                                 \n",
            " dense (Dense)               (None, 2)                 66        \n",
            "                                                                 \n",
            "=================================================================\n",
            "Total params: 74,690\n",
            "Trainable params: 74,690\n",
            "Non-trainable params: 0\n",
            "_________________________________________________________________\n"
          ]
        }
      ]
    },
    {
      "cell_type": "code",
      "source": [
        "\"\"\"import tensorflow as tf\n",
        "\n",
        "x_train = tf.stack(x_train)\n",
        "y_test = tf.stack(y_test)\"\"\""
      ],
      "metadata": {
        "id": "6zPXwl9bthOF",
        "colab": {
          "base_uri": "https://localhost:8080/",
          "height": 36
        },
        "outputId": "ffa37176-7a8d-46f0-d93b-7fe9b3759b11"
      },
      "execution_count": 281,
      "outputs": [
        {
          "output_type": "execute_result",
          "data": {
            "text/plain": [
              "'import tensorflow as tf\\n\\nx_train = tf.stack(x_train)\\ny_test = tf.stack(y_test)'"
            ],
            "application/vnd.google.colaboratory.intrinsic+json": {
              "type": "string"
            }
          },
          "metadata": {},
          "execution_count": 281
        }
      ]
    },
    {
      "cell_type": "code",
      "source": [
        "history = model.fit(x_train, y_train, epochs = 100, validation_data= (x_test, y_test))\n",
        "score, acc = model.evaluate(x_test, y_test)\n"
      ],
      "metadata": {
        "trusted": true,
        "colab": {
          "base_uri": "https://localhost:8080/"
        },
        "id": "dAeopbUEmTHp",
        "outputId": "3cac9dbc-ecde-4352-9527-909e51d560c6"
      },
      "execution_count": 282,
      "outputs": [
        {
          "output_type": "stream",
          "name": "stdout",
          "text": [
            "Epoch 1/100\n",
            "288/288 [==============================] - 7s 11ms/step - loss: 0.5183 - accuracy: 0.7933 - val_loss: 0.4539 - val_accuracy: 0.8035\n",
            "Epoch 2/100\n",
            "288/288 [==============================] - 3s 9ms/step - loss: 0.4747 - accuracy: 0.8004 - val_loss: 0.4329 - val_accuracy: 0.8039\n",
            "Epoch 3/100\n",
            "288/288 [==============================] - 2s 8ms/step - loss: 0.4479 - accuracy: 0.8051 - val_loss: 0.4179 - val_accuracy: 0.8048\n",
            "Epoch 4/100\n",
            "288/288 [==============================] - 3s 9ms/step - loss: 0.4240 - accuracy: 0.8179 - val_loss: 0.3973 - val_accuracy: 0.8187\n",
            "Epoch 5/100\n",
            "288/288 [==============================] - 2s 8ms/step - loss: 0.4025 - accuracy: 0.8292 - val_loss: 0.3756 - val_accuracy: 0.8413\n",
            "Epoch 6/100\n",
            "288/288 [==============================] - 3s 9ms/step - loss: 0.3835 - accuracy: 0.8404 - val_loss: 0.3667 - val_accuracy: 0.8461\n",
            "Epoch 7/100\n",
            "288/288 [==============================] - 3s 10ms/step - loss: 0.3697 - accuracy: 0.8492 - val_loss: 0.3596 - val_accuracy: 0.8565\n",
            "Epoch 8/100\n",
            "288/288 [==============================] - 3s 9ms/step - loss: 0.3619 - accuracy: 0.8616 - val_loss: 0.3515 - val_accuracy: 0.8570\n",
            "Epoch 9/100\n",
            "288/288 [==============================] - 3s 9ms/step - loss: 0.3539 - accuracy: 0.8661 - val_loss: 0.3438 - val_accuracy: 0.8604\n",
            "Epoch 10/100\n",
            "288/288 [==============================] - 3s 9ms/step - loss: 0.3454 - accuracy: 0.8677 - val_loss: 0.3461 - val_accuracy: 0.8648\n",
            "Epoch 11/100\n",
            "288/288 [==============================] - 2s 8ms/step - loss: 0.3509 - accuracy: 0.8660 - val_loss: 0.3333 - val_accuracy: 0.8735\n",
            "Epoch 12/100\n",
            "288/288 [==============================] - 2s 8ms/step - loss: 0.3447 - accuracy: 0.8712 - val_loss: 0.3271 - val_accuracy: 0.8722\n",
            "Epoch 13/100\n",
            "288/288 [==============================] - 2s 8ms/step - loss: 0.3477 - accuracy: 0.8665 - val_loss: 0.3297 - val_accuracy: 0.8757\n",
            "Epoch 14/100\n",
            "288/288 [==============================] - 2s 8ms/step - loss: 0.3386 - accuracy: 0.8738 - val_loss: 0.3309 - val_accuracy: 0.8700\n",
            "Epoch 15/100\n",
            "288/288 [==============================] - 2s 8ms/step - loss: 0.3368 - accuracy: 0.8730 - val_loss: 0.3377 - val_accuracy: 0.8674\n",
            "Epoch 16/100\n",
            "288/288 [==============================] - 3s 9ms/step - loss: 0.3321 - accuracy: 0.8771 - val_loss: 0.3354 - val_accuracy: 0.8700\n",
            "Epoch 17/100\n",
            "288/288 [==============================] - 2s 8ms/step - loss: 0.3359 - accuracy: 0.8760 - val_loss: 0.3318 - val_accuracy: 0.8722\n",
            "Epoch 18/100\n",
            "288/288 [==============================] - 2s 5ms/step - loss: 0.3294 - accuracy: 0.8804 - val_loss: 0.3291 - val_accuracy: 0.8717\n",
            "Epoch 19/100\n",
            "288/288 [==============================] - 1s 5ms/step - loss: 0.3299 - accuracy: 0.8802 - val_loss: 0.3208 - val_accuracy: 0.8770\n",
            "Epoch 20/100\n",
            "288/288 [==============================] - 1s 5ms/step - loss: 0.3249 - accuracy: 0.8833 - val_loss: 0.3253 - val_accuracy: 0.8726\n",
            "Epoch 21/100\n",
            "288/288 [==============================] - 1s 5ms/step - loss: 0.3298 - accuracy: 0.8815 - val_loss: 0.3299 - val_accuracy: 0.8735\n",
            "Epoch 22/100\n",
            "288/288 [==============================] - 1s 5ms/step - loss: 0.3311 - accuracy: 0.8768 - val_loss: 0.3237 - val_accuracy: 0.8700\n",
            "Epoch 23/100\n",
            "288/288 [==============================] - 1s 5ms/step - loss: 0.3302 - accuracy: 0.8802 - val_loss: 0.3207 - val_accuracy: 0.8730\n",
            "Epoch 24/100\n",
            "288/288 [==============================] - 1s 5ms/step - loss: 0.3277 - accuracy: 0.8839 - val_loss: 0.3188 - val_accuracy: 0.8787\n",
            "Epoch 25/100\n",
            "288/288 [==============================] - 1s 5ms/step - loss: 0.3193 - accuracy: 0.8855 - val_loss: 0.3303 - val_accuracy: 0.8752\n",
            "Epoch 26/100\n",
            "288/288 [==============================] - 1s 5ms/step - loss: 0.3275 - accuracy: 0.8813 - val_loss: 0.3246 - val_accuracy: 0.8722\n",
            "Epoch 27/100\n",
            "288/288 [==============================] - 1s 5ms/step - loss: 0.3213 - accuracy: 0.8867 - val_loss: 0.3279 - val_accuracy: 0.8674\n",
            "Epoch 28/100\n",
            "288/288 [==============================] - 1s 5ms/step - loss: 0.3242 - accuracy: 0.8835 - val_loss: 0.3199 - val_accuracy: 0.8765\n",
            "Epoch 29/100\n",
            "288/288 [==============================] - 1s 5ms/step - loss: 0.3284 - accuracy: 0.8824 - val_loss: 0.3268 - val_accuracy: 0.8683\n",
            "Epoch 30/100\n",
            "288/288 [==============================] - 1s 5ms/step - loss: 0.3255 - accuracy: 0.8791 - val_loss: 0.3212 - val_accuracy: 0.8722\n",
            "Epoch 31/100\n",
            "288/288 [==============================] - 1s 5ms/step - loss: 0.3194 - accuracy: 0.8854 - val_loss: 0.3245 - val_accuracy: 0.8704\n",
            "Epoch 32/100\n",
            "288/288 [==============================] - 1s 5ms/step - loss: 0.3185 - accuracy: 0.8851 - val_loss: 0.3198 - val_accuracy: 0.8743\n",
            "Epoch 33/100\n",
            "288/288 [==============================] - 1s 5ms/step - loss: 0.3221 - accuracy: 0.8849 - val_loss: 0.3286 - val_accuracy: 0.8722\n",
            "Epoch 34/100\n",
            "288/288 [==============================] - 1s 5ms/step - loss: 0.3198 - accuracy: 0.8837 - val_loss: 0.3224 - val_accuracy: 0.8796\n",
            "Epoch 35/100\n",
            "288/288 [==============================] - 1s 5ms/step - loss: 0.3227 - accuracy: 0.8858 - val_loss: 0.3235 - val_accuracy: 0.8770\n",
            "Epoch 36/100\n",
            "288/288 [==============================] - 1s 5ms/step - loss: 0.3206 - accuracy: 0.8872 - val_loss: 0.3357 - val_accuracy: 0.8717\n",
            "Epoch 37/100\n",
            "288/288 [==============================] - 1s 5ms/step - loss: 0.3200 - accuracy: 0.8842 - val_loss: 0.3307 - val_accuracy: 0.8757\n",
            "Epoch 38/100\n",
            "288/288 [==============================] - 1s 5ms/step - loss: 0.3330 - accuracy: 0.8825 - val_loss: 0.3294 - val_accuracy: 0.8757\n",
            "Epoch 39/100\n",
            "288/288 [==============================] - 1s 5ms/step - loss: 0.3239 - accuracy: 0.8822 - val_loss: 0.3360 - val_accuracy: 0.8752\n",
            "Epoch 40/100\n",
            "288/288 [==============================] - 1s 5ms/step - loss: 0.3229 - accuracy: 0.8860 - val_loss: 0.3378 - val_accuracy: 0.8713\n",
            "Epoch 41/100\n",
            "288/288 [==============================] - 1s 5ms/step - loss: 0.3259 - accuracy: 0.8858 - val_loss: 0.3413 - val_accuracy: 0.8717\n",
            "Epoch 42/100\n",
            "288/288 [==============================] - 1s 5ms/step - loss: 0.3276 - accuracy: 0.8828 - val_loss: 0.3437 - val_accuracy: 0.8691\n",
            "Epoch 43/100\n",
            "288/288 [==============================] - 1s 5ms/step - loss: 0.3273 - accuracy: 0.8860 - val_loss: 0.3340 - val_accuracy: 0.8748\n",
            "Epoch 44/100\n",
            "288/288 [==============================] - 1s 5ms/step - loss: 0.3227 - accuracy: 0.8866 - val_loss: 0.3385 - val_accuracy: 0.8691\n",
            "Epoch 45/100\n",
            "288/288 [==============================] - 1s 5ms/step - loss: 0.3298 - accuracy: 0.8833 - val_loss: 0.3316 - val_accuracy: 0.8743\n",
            "Epoch 46/100\n",
            "288/288 [==============================] - 1s 5ms/step - loss: 0.3317 - accuracy: 0.8825 - val_loss: 0.3275 - val_accuracy: 0.8757\n",
            "Epoch 47/100\n",
            "288/288 [==============================] - 1s 5ms/step - loss: 0.3258 - accuracy: 0.8839 - val_loss: 0.3311 - val_accuracy: 0.8739\n",
            "Epoch 48/100\n",
            "288/288 [==============================] - 1s 5ms/step - loss: 0.3210 - accuracy: 0.8873 - val_loss: 0.3281 - val_accuracy: 0.8761\n",
            "Epoch 49/100\n",
            "288/288 [==============================] - 1s 5ms/step - loss: 0.3246 - accuracy: 0.8878 - val_loss: 0.3235 - val_accuracy: 0.8783\n",
            "Epoch 50/100\n",
            "288/288 [==============================] - 1s 5ms/step - loss: 0.3302 - accuracy: 0.8845 - val_loss: 0.3279 - val_accuracy: 0.8752\n",
            "Epoch 51/100\n",
            "288/288 [==============================] - 1s 5ms/step - loss: 0.3237 - accuracy: 0.8891 - val_loss: 0.3270 - val_accuracy: 0.8791\n",
            "Epoch 52/100\n",
            "288/288 [==============================] - 1s 5ms/step - loss: 0.3318 - accuracy: 0.8820 - val_loss: 0.3266 - val_accuracy: 0.8804\n",
            "Epoch 53/100\n",
            "288/288 [==============================] - 1s 5ms/step - loss: 0.3395 - accuracy: 0.8814 - val_loss: 0.3338 - val_accuracy: 0.8752\n",
            "Epoch 54/100\n",
            "288/288 [==============================] - 1s 5ms/step - loss: 0.3329 - accuracy: 0.8818 - val_loss: 0.3324 - val_accuracy: 0.8743\n",
            "Epoch 55/100\n",
            "288/288 [==============================] - 1s 5ms/step - loss: 0.3344 - accuracy: 0.8815 - val_loss: 0.3327 - val_accuracy: 0.8739\n",
            "Epoch 56/100\n",
            "288/288 [==============================] - 1s 5ms/step - loss: 0.3339 - accuracy: 0.8820 - val_loss: 0.3285 - val_accuracy: 0.8791\n",
            "Epoch 57/100\n",
            "288/288 [==============================] - 1s 5ms/step - loss: 0.3384 - accuracy: 0.8814 - val_loss: 0.3285 - val_accuracy: 0.8796\n",
            "Epoch 58/100\n",
            "288/288 [==============================] - 1s 5ms/step - loss: 0.3288 - accuracy: 0.8839 - val_loss: 0.3327 - val_accuracy: 0.8770\n",
            "Epoch 59/100\n",
            "288/288 [==============================] - 1s 5ms/step - loss: 0.3256 - accuracy: 0.8870 - val_loss: 0.3263 - val_accuracy: 0.8778\n",
            "Epoch 60/100\n",
            "288/288 [==============================] - 1s 5ms/step - loss: 0.3300 - accuracy: 0.8870 - val_loss: 0.3277 - val_accuracy: 0.8796\n",
            "Epoch 61/100\n",
            "288/288 [==============================] - 1s 5ms/step - loss: 0.3252 - accuracy: 0.8874 - val_loss: 0.3259 - val_accuracy: 0.8804\n",
            "Epoch 62/100\n",
            "288/288 [==============================] - 1s 5ms/step - loss: 0.3265 - accuracy: 0.8865 - val_loss: 0.3272 - val_accuracy: 0.8796\n",
            "Epoch 63/100\n",
            "288/288 [==============================] - 1s 5ms/step - loss: 0.3230 - accuracy: 0.8877 - val_loss: 0.3212 - val_accuracy: 0.8822\n",
            "Epoch 64/100\n",
            "288/288 [==============================] - 1s 5ms/step - loss: 0.3288 - accuracy: 0.8849 - val_loss: 0.3308 - val_accuracy: 0.8765\n",
            "Epoch 65/100\n",
            "288/288 [==============================] - 1s 5ms/step - loss: 0.3327 - accuracy: 0.8850 - val_loss: 0.3287 - val_accuracy: 0.8748\n",
            "Epoch 66/100\n",
            "288/288 [==============================] - 1s 5ms/step - loss: 0.3339 - accuracy: 0.8838 - val_loss: 0.3329 - val_accuracy: 0.8765\n",
            "Epoch 67/100\n",
            "288/288 [==============================] - 1s 5ms/step - loss: 0.3308 - accuracy: 0.8840 - val_loss: 0.3389 - val_accuracy: 0.8717\n",
            "Epoch 68/100\n",
            "288/288 [==============================] - 1s 5ms/step - loss: 0.3311 - accuracy: 0.8840 - val_loss: 0.3408 - val_accuracy: 0.8696\n",
            "Epoch 69/100\n",
            "288/288 [==============================] - 1s 5ms/step - loss: 0.3300 - accuracy: 0.8859 - val_loss: 0.3362 - val_accuracy: 0.8717\n",
            "Epoch 70/100\n",
            "288/288 [==============================] - 1s 5ms/step - loss: 0.3324 - accuracy: 0.8834 - val_loss: 0.3370 - val_accuracy: 0.8717\n",
            "Epoch 71/100\n",
            "288/288 [==============================] - 1s 5ms/step - loss: 0.3326 - accuracy: 0.8841 - val_loss: 0.3374 - val_accuracy: 0.8709\n",
            "Epoch 72/100\n",
            "288/288 [==============================] - 1s 5ms/step - loss: 0.3316 - accuracy: 0.8807 - val_loss: 0.3367 - val_accuracy: 0.8770\n",
            "Epoch 73/100\n",
            "288/288 [==============================] - 1s 5ms/step - loss: 0.3338 - accuracy: 0.8822 - val_loss: 0.3332 - val_accuracy: 0.8761\n",
            "Epoch 74/100\n",
            "288/288 [==============================] - 1s 5ms/step - loss: 0.3332 - accuracy: 0.8866 - val_loss: 0.3350 - val_accuracy: 0.8757\n",
            "Epoch 75/100\n",
            "288/288 [==============================] - 1s 5ms/step - loss: 0.3315 - accuracy: 0.8860 - val_loss: 0.3316 - val_accuracy: 0.8778\n",
            "Epoch 76/100\n",
            "288/288 [==============================] - 1s 5ms/step - loss: 0.3277 - accuracy: 0.8887 - val_loss: 0.3322 - val_accuracy: 0.8800\n",
            "Epoch 77/100\n",
            "288/288 [==============================] - 1s 5ms/step - loss: 0.3321 - accuracy: 0.8834 - val_loss: 0.3384 - val_accuracy: 0.8713\n",
            "Epoch 78/100\n",
            "288/288 [==============================] - 1s 5ms/step - loss: 0.3343 - accuracy: 0.8858 - val_loss: 0.3371 - val_accuracy: 0.8757\n",
            "Epoch 79/100\n",
            "288/288 [==============================] - 1s 5ms/step - loss: 0.3335 - accuracy: 0.8837 - val_loss: 0.3386 - val_accuracy: 0.8735\n",
            "Epoch 80/100\n",
            "288/288 [==============================] - 1s 5ms/step - loss: 0.3322 - accuracy: 0.8843 - val_loss: 0.3377 - val_accuracy: 0.8739\n",
            "Epoch 81/100\n",
            "288/288 [==============================] - 1s 5ms/step - loss: 0.3309 - accuracy: 0.8867 - val_loss: 0.3471 - val_accuracy: 0.8704\n",
            "Epoch 82/100\n",
            "288/288 [==============================] - 2s 6ms/step - loss: 0.3296 - accuracy: 0.8884 - val_loss: 0.3438 - val_accuracy: 0.8739\n",
            "Epoch 83/100\n",
            "288/288 [==============================] - 2s 7ms/step - loss: 0.3344 - accuracy: 0.8871 - val_loss: 0.3439 - val_accuracy: 0.8730\n",
            "Epoch 84/100\n",
            "288/288 [==============================] - 1s 5ms/step - loss: 0.3305 - accuracy: 0.8873 - val_loss: 0.3461 - val_accuracy: 0.8743\n",
            "Epoch 85/100\n",
            "288/288 [==============================] - 1s 5ms/step - loss: 0.3344 - accuracy: 0.8850 - val_loss: 0.3416 - val_accuracy: 0.8748\n",
            "Epoch 86/100\n",
            "288/288 [==============================] - 1s 5ms/step - loss: 0.3368 - accuracy: 0.8836 - val_loss: 0.3431 - val_accuracy: 0.8743\n",
            "Epoch 87/100\n",
            "288/288 [==============================] - 1s 5ms/step - loss: 0.3364 - accuracy: 0.8842 - val_loss: 0.3399 - val_accuracy: 0.8730\n",
            "Epoch 88/100\n",
            "288/288 [==============================] - 1s 5ms/step - loss: 0.3361 - accuracy: 0.8828 - val_loss: 0.3317 - val_accuracy: 0.8770\n",
            "Epoch 89/100\n",
            "288/288 [==============================] - 2s 8ms/step - loss: 0.3361 - accuracy: 0.8861 - val_loss: 0.3336 - val_accuracy: 0.8774\n",
            "Epoch 90/100\n",
            "288/288 [==============================] - 2s 8ms/step - loss: 0.3367 - accuracy: 0.8835 - val_loss: 0.3392 - val_accuracy: 0.8713\n",
            "Epoch 91/100\n",
            "288/288 [==============================] - 1s 5ms/step - loss: 0.3331 - accuracy: 0.8820 - val_loss: 0.3339 - val_accuracy: 0.8748\n",
            "Epoch 92/100\n",
            "288/288 [==============================] - 1s 5ms/step - loss: 0.3423 - accuracy: 0.8816 - val_loss: 0.3381 - val_accuracy: 0.8713\n",
            "Epoch 93/100\n",
            "288/288 [==============================] - 1s 5ms/step - loss: 0.3398 - accuracy: 0.8817 - val_loss: 0.3364 - val_accuracy: 0.8761\n",
            "Epoch 94/100\n",
            "288/288 [==============================] - 1s 5ms/step - loss: 0.3369 - accuracy: 0.8814 - val_loss: 0.3330 - val_accuracy: 0.8787\n",
            "Epoch 95/100\n",
            "288/288 [==============================] - 1s 5ms/step - loss: 0.3421 - accuracy: 0.8818 - val_loss: 0.3334 - val_accuracy: 0.8770\n",
            "Epoch 96/100\n",
            "288/288 [==============================] - 1s 5ms/step - loss: 0.3405 - accuracy: 0.8827 - val_loss: 0.3335 - val_accuracy: 0.8739\n",
            "Epoch 97/100\n",
            "288/288 [==============================] - 1s 5ms/step - loss: 0.3409 - accuracy: 0.8826 - val_loss: 0.3334 - val_accuracy: 0.8752\n",
            "Epoch 98/100\n",
            "288/288 [==============================] - 1s 5ms/step - loss: 0.3482 - accuracy: 0.8800 - val_loss: 0.3307 - val_accuracy: 0.8796\n",
            "Epoch 99/100\n",
            "288/288 [==============================] - 1s 5ms/step - loss: 0.3411 - accuracy: 0.8795 - val_loss: 0.3330 - val_accuracy: 0.8743\n",
            "Epoch 100/100\n",
            "288/288 [==============================] - 1s 5ms/step - loss: 0.3474 - accuracy: 0.8765 - val_loss: 0.3333 - val_accuracy: 0.8739\n",
            "72/72 [==============================] - 0s 2ms/step - loss: 0.3333 - accuracy: 0.8739\n"
          ]
        }
      ]
    },
    {
      "cell_type": "code",
      "source": [
        "from sklearn.metrics import accuracy_score\n",
        "pred = model.predict(x_test)\n",
        "predict_classes = np.argmax(pred,axis=1)\n",
        "expected_classes = np.argmax(y_test,axis=1)\n",
        "print(expected_classes.shape)\n",
        "print(predict_classes.shape)\n",
        "correct = accuracy_score(expected_classes,predict_classes)\n",
        "print(f\"Training Accuracy: {correct}\")"
      ],
      "metadata": {
        "trusted": true,
        "id": "ajGS5k6AmTHp",
        "colab": {
          "base_uri": "https://localhost:8080/"
        },
        "outputId": "baf76579-729b-469e-be2d-78b9ef7af88b"
      },
      "execution_count": 283,
      "outputs": [
        {
          "output_type": "stream",
          "name": "stdout",
          "text": [
            "(2300,)\n",
            "(2300,)\n",
            "Training Accuracy: 0.8739130434782608\n"
          ]
        }
      ]
    },
    {
      "cell_type": "code",
      "source": [
        "model.save('sentiment.h5')\n"
      ],
      "metadata": {
        "id": "mYoMFCGf6dvh"
      },
      "execution_count": 286,
      "outputs": []
    },
    {
      "cell_type": "code",
      "source": [
        "converter = tf.lite.TFLiteConverter.from_keras_model(model)\n",
        "converter.target_spec.supported_ops = [\n",
        "  tf.lite.OpsSet.TFLITE_BUILTINS, # enable TensorFlow Lite ops.\n",
        "  tf.lite.OpsSet.SELECT_TF_OPS # enable TensorFlow ops.\n",
        "]\n",
        "tflite_model = converter.convert()"
      ],
      "metadata": {
        "colab": {
          "base_uri": "https://localhost:8080/"
        },
        "id": "m8n7x1836uHl",
        "outputId": "104fa784-4d40-4e93-9964-d1551ccd4a14"
      },
      "execution_count": 301,
      "outputs": [
        {
          "output_type": "stream",
          "name": "stdout",
          "text": [
            "INFO:tensorflow:Assets written to: /tmp/tmpf6mtdbgl/assets\n"
          ]
        },
        {
          "output_type": "stream",
          "name": "stderr",
          "text": [
            "INFO:tensorflow:Assets written to: /tmp/tmpf6mtdbgl/assets\n",
            "WARNING:absl:Buffer deduplication procedure will be skipped when flatbuffer library is not properly loaded\n"
          ]
        }
      ]
    },
    {
      "cell_type": "code",
      "source": [
        "# Function: Convert some hex value into an array for C programming\n",
        "def hex_to_c_array(hex_data, var_name):\n",
        "\n",
        "  c_str = ''\n",
        "\n",
        "  # Create header guard\n",
        "  c_str += '#ifndef ' + var_name.upper() + '_H\\n'\n",
        "  c_str += '#define ' + var_name.upper() + '_H\\n\\n'\n",
        "\n",
        "  # Add array length at top of file\n",
        "  c_str += '\\nunsigned int ' + var_name + '_len = ' + str(len(hex_data)) + ';\\n'\n",
        "\n",
        "  # Declare C variable\n",
        "  c_str += 'unsigned char ' + var_name + '[] = {'\n",
        "  hex_array = []\n",
        "  for i, val in enumerate(hex_data) :\n",
        "\n",
        "    # Construct string from hex\n",
        "    hex_str = format(val, '#04x')\n",
        "\n",
        "    # Add formatting so each line stays within 80 characters\n",
        "    if (i + 1) < len(hex_data):\n",
        "      hex_str += ','\n",
        "    if (i + 1) % 12 == 0:\n",
        "      hex_str += '\\n '\n",
        "    hex_array.append(hex_str)\n",
        "\n",
        "  # Add closing brace\n",
        "  c_str += '\\n ' + format(' '.join(hex_array)) + '\\n};\\n\\n'\n",
        "\n",
        "  # Close out header guard\n",
        "  c_str += '#endif //' + var_name.upper() + '_H'\n",
        "\n",
        "  return c_str"
      ],
      "metadata": {
        "id": "hAZgDYSP62Tf"
      },
      "execution_count": 302,
      "outputs": []
    },
    {
      "cell_type": "code",
      "source": [
        "c_model_name=\"sentiment\"\n",
        "with open(c_model_name + '.h', 'w') as file:\n",
        "  file.write(hex_to_c_array(tflite_model, c_model_name))"
      ],
      "metadata": {
        "id": "p9TKcXNC67Kr"
      },
      "execution_count": 303,
      "outputs": []
    }
  ]
}